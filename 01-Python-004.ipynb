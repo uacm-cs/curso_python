{
 "cells": [
  {
   "cell_type": "markdown",
   "metadata": {},
   "source": [
    "# <span style=\"color:#0485CF\"> Conexión a Base de Datos </span>\n"
   ]
  },
  {
   "cell_type": "markdown",
   "metadata": {},
   "source": [
    "### Instalación del manejador de Base de Datos: PostgreSQL\n",
    "\n",
    "#### https://www.postgresql.org\n",
    "\n",
    "- PostgreSQL, comúnmente pronunciado \"Post-GRES\"\n",
    "- Es una base de datos de código abierto que tiene una sólida reputación por su fiabilidad, flexibilidad y soporte de estándares técnicos abiertos.\n",
    "- PostgreSQL está completamente libre de restricciones de licencia"
   ]
  },
  {
   "cell_type": "markdown",
   "metadata": {},
   "source": [
    "###  Instalación \n",
    "\n",
    "#### 1. Descargar  el manejador de Base de Datos: PostgreSQL\n",
    "\n",
    "#### 2. Instalación del manejador de Base de Datos: PostgreSQL\n",
    "\n",
    "#### 3. Configurar el path \n",
    "\n"
   ]
  },
  {
   "cell_type": "code",
   "execution_count": null,
   "metadata": {},
   "outputs": [],
   "source": []
  },
  {
   "cell_type": "code",
   "execution_count": null,
   "metadata": {},
   "outputs": [],
   "source": []
  },
  {
   "cell_type": "code",
   "execution_count": null,
   "metadata": {},
   "outputs": [],
   "source": []
  },
  {
   "cell_type": "markdown",
   "metadata": {},
   "source": [
    "### Creación de ambiente para PostgreSQL\n",
    "\n",
    "- En la terminal colocar  los siguientes comandos\n"
   ]
  },
  {
   "cell_type": "code",
   "execution_count": null,
   "metadata": {},
   "outputs": [],
   "source": []
  },
  {
   "cell_type": "markdown",
   "metadata": {},
   "source": [
    "#### Crear el ambiente desde la terminal"
   ]
  },
  {
   "cell_type": "code",
   "execution_count": null,
   "metadata": {},
   "outputs": [],
   "source": [
    "conda create --name  PostSQL python"
   ]
  },
  {
   "cell_type": "markdown",
   "metadata": {},
   "source": [
    "#### Activar el ambiente desde la terminal"
   ]
  },
  {
   "cell_type": "code",
   "execution_count": null,
   "metadata": {},
   "outputs": [],
   "source": [
    "conda activate PostSQL"
   ]
  },
  {
   "cell_type": "code",
   "execution_count": null,
   "metadata": {},
   "outputs": [],
   "source": []
  },
  {
   "cell_type": "markdown",
   "metadata": {},
   "source": [
    "### Instalación de la GUI (Encaso de que no se encuentre en la instalación de PostgreSQL)"
   ]
  },
  {
   "cell_type": "code",
   "execution_count": null,
   "metadata": {},
   "outputs": [],
   "source": [
    "pip install pgadmin4"
   ]
  },
  {
   "cell_type": "code",
   "execution_count": null,
   "metadata": {},
   "outputs": [],
   "source": []
  },
  {
   "cell_type": "markdown",
   "metadata": {},
   "source": [
    "### Instalación de paquetes para PosgreSQL en el ambiente creado"
   ]
  },
  {
   "cell_type": "markdown",
   "metadata": {},
   "source": [
    "#### Desde la terminal"
   ]
  },
  {
   "cell_type": "code",
   "execution_count": null,
   "metadata": {},
   "outputs": [],
   "source": [
    "pip install psycopg2\n",
    "pip install psycopg2-binary"
   ]
  },
  {
   "cell_type": "markdown",
   "metadata": {},
   "source": [
    "### Crear un usuario de conexion"
   ]
  },
  {
   "cell_type": "markdown",
   "metadata": {},
   "source": [
    "### Desde el prompt de la terminal: conectarse al Manejador de BD de PostgreSQL\n",
    "- En el caso de linux, mac os: desde la terminal\n",
    "- En el caso de windows: desde la terminal del prompt de PostgreSQL  (seguir las instrucciones en pantalla)"
   ]
  },
  {
   "cell_type": "code",
   "execution_count": null,
   "metadata": {},
   "outputs": [],
   "source": [
    "psql -U postgres"
   ]
  },
  {
   "cell_type": "markdown",
   "metadata": {},
   "source": [
    "### Desde el prompt de postgreSQL"
   ]
  },
  {
   "cell_type": "code",
   "execution_count": null,
   "metadata": {},
   "outputs": [],
   "source": [
    "\n",
    "CREATE USER uacm WITH PASSWORD 'uacm1';\n"
   ]
  },
  {
   "cell_type": "code",
   "execution_count": null,
   "metadata": {},
   "outputs": [],
   "source": [
    "# comando para listar os usuarios \n",
    "\\du"
   ]
  },
  {
   "cell_type": "code",
   "execution_count": null,
   "metadata": {},
   "outputs": [],
   "source": [
    "# Privilegios para crear BD\n",
    "ALTER USER uacm CREATEDB;"
   ]
  },
  {
   "cell_type": "code",
   "execution_count": null,
   "metadata": {},
   "outputs": [],
   "source": [
    "#c Cambiarse al usuario creado para crear BDs o \n",
    "SET ROLE uacm;"
   ]
  },
  {
   "cell_type": "code",
   "execution_count": null,
   "metadata": {},
   "outputs": [],
   "source": [
    "# Salir de psql \n",
    "exit"
   ]
  },
  {
   "cell_type": "markdown",
   "metadata": {},
   "source": [
    "### Crear una base de datos"
   ]
  },
  {
   "cell_type": "markdown",
   "metadata": {},
   "source": [
    "### Desde el prompt de la terminal: conectarse al Manejador de BD con el usuario creado\n",
    "- En el caso de linux, mac os: desde la terminal\n",
    "- En el caso de windows: desde la terminal del prompt de PostgreSQL (seguir las instrucciones en pantalla: cambiar el usuario)"
   ]
  },
  {
   "cell_type": "code",
   "execution_count": null,
   "metadata": {},
   "outputs": [],
   "source": [
    "# Desde la terminal \n",
    "psql -U uacm postgres\n"
   ]
  },
  {
   "cell_type": "code",
   "execution_count": null,
   "metadata": {},
   "outputs": [],
   "source": [
    "CREATE DATABASE sistema_abc\n",
    "  WITH ENCODING='UTF8'\n",
    "  LC_COLLATE='es_ES.UTF-8'\n",
    "  LC_CTYPE='es_ES.UTF-8'\n",
    "  TEMPLATE=template0;"
   ]
  },
  {
   "cell_type": "code",
   "execution_count": null,
   "metadata": {},
   "outputs": [],
   "source": [
    "# Listar las Bases de Datos disponibles\n",
    "\\l"
   ]
  },
  {
   "cell_type": "code",
   "execution_count": null,
   "metadata": {},
   "outputs": [],
   "source": [
    "# Conectarse a la Base de Datos sistemaABC\n",
    "\\c sistema_abc"
   ]
  },
  {
   "cell_type": "markdown",
   "metadata": {},
   "source": [
    "### Crear la tabla"
   ]
  },
  {
   "cell_type": "code",
   "execution_count": null,
   "metadata": {},
   "outputs": [],
   "source": [
    "CREATE TABLE productos (\n",
    "    id SERIAL PRIMARY KEY,\n",
    "    descripcion TEXT,\n",
    "    precio NUMERIC(10, 2)\n",
    ");"
   ]
  },
  {
   "cell_type": "code",
   "execution_count": null,
   "metadata": {},
   "outputs": [],
   "source": [
    "# Listar las tablas\n",
    "\n",
    "\\dt"
   ]
  },
  {
   "cell_type": "code",
   "execution_count": null,
   "metadata": {},
   "outputs": [],
   "source": [
    "# Mostrar detalles de la tabla\n",
    "\\d productos"
   ]
  },
  {
   "cell_type": "code",
   "execution_count": null,
   "metadata": {},
   "outputs": [],
   "source": [
    "# Insertar datos \n",
    "INSERT INTO productos (descripcion, precio) VALUES ('camisa', 99.99);\n",
    "\n",
    "INSERT INTO productos (descripcion, precio) VALUES ('pantalon', 499.99);\n"
   ]
  },
  {
   "cell_type": "code",
   "execution_count": null,
   "metadata": {},
   "outputs": [],
   "source": [
    "# Seleccionar datos\n",
    "\n",
    "SELECT * FROM productos;\n",
    "\n",
    "\n",
    "# Seleccionar datos según un criterio\n",
    "\n",
    "SELECT * FROM productos WHERE precio < 100;\n"
   ]
  },
  {
   "cell_type": "markdown",
   "metadata": {},
   "source": [
    "## Ejercicio\n",
    "\n",
    "### 1. Crear una tabla de Empleados con los campos:\n",
    "\n",
    "- Identificador del empleado tipo númerico    \n",
    "- Nombre del  empleado tipo texto\n",
    "- Fecha de Nacimiento tipo date\n",
    "- Puesto del empleado tipo numerico\n",
    "- Sueldo mensual del empleado tipo numerico\n",
    "\n",
    "### 2. Insertar 5 datos\n",
    "\n",
    "### 3. Mostrar los datos de la tabla Empleados\n",
    "\n",
    "### 4. Mostrar los datos de la tabla Empleados que cumplan con un sueldo menor de \n",
    "\n",
    "\n",
    "### <span style=\"color:red\"> Nota: recordar que cada instrucción termina con punto y coma ;</span>\n",
    "\n",
    "\n",
    "\n"
   ]
  },
  {
   "cell_type": "code",
   "execution_count": null,
   "metadata": {},
   "outputs": [],
   "source": []
  },
  {
   "cell_type": "markdown",
   "metadata": {},
   "source": [
    "# Conexión a la Base de Datos desde Python"
   ]
  },
  {
   "cell_type": "code",
   "execution_count": null,
   "metadata": {},
   "outputs": [],
   "source": [
    "import psycopg2\n",
    "\n",
    "def connect():\n",
    "    try:\n",
    "        # conectando al servidor de PostgreSQL \n",
    "        conn = psycopg2.connect(\n",
    "                            host=\"localhost\",\n",
    "                            database=\"sistema_abc\",\n",
    "                            user=\"uacm\",\n",
    "                            password=\"uacm1\"\n",
    "                        )\n",
    "        print('Conectado con el Servidor de PostgreSQL')\n",
    "        return conn\n",
    "    except (psycopg2.DatabaseError, Exception) as error:\n",
    "        print(error)\n",
    "\n",
    "\n",
    "conn = connect()"
   ]
  },
  {
   "cell_type": "code",
   "execution_count": null,
   "metadata": {},
   "outputs": [],
   "source": []
  },
  {
   "cell_type": "code",
   "execution_count": null,
   "metadata": {},
   "outputs": [],
   "source": [
    "# Abrir un cursor para hacer operaciones\n",
    "\n",
    "cur = conn.cursor()\n",
    "cur.execute(\"SELECT * FROM productos\")\n",
    "registros = cur.fetchall()\n",
    "cur.close()\n",
    "\n",
    "for r in registros:\n",
    "    idx, desc, precio = r     \n",
    "    print(\"identificador: {}\".format(idx))\n",
    "    print(\"\\tdescripción: {}\".format(desc))\n",
    "    print(\"\\tprecio: {}\".format(precio))\n"
   ]
  },
  {
   "cell_type": "code",
   "execution_count": null,
   "metadata": {},
   "outputs": [],
   "source": [
    "# Tipos de datos\n",
    "\n",
    "type(registros)\n",
    "print(registros[0])\n",
    "print(registros[1])"
   ]
  },
  {
   "cell_type": "code",
   "execution_count": null,
   "metadata": {},
   "outputs": [],
   "source": [
    "# insertar datos\n",
    "cur = conn.cursor()\n",
    "cur.execute(\"INSERT INTO productos(descripcion, precio) values ('gorras', 399);\")\n",
    "cur.close()\n",
    "\n",
    "\n"
   ]
  },
  {
   "cell_type": "code",
   "execution_count": null,
   "metadata": {},
   "outputs": [],
   "source": [
    "# Actualizar  datos\n",
    "\n",
    "cur = conn.cursor()\n",
    "cur.execute(\"UPDATE productos SET precio = 699.99 WHERE   id = 1 \") # camisas\n",
    "cur.close()\n"
   ]
  },
  {
   "cell_type": "code",
   "execution_count": null,
   "metadata": {},
   "outputs": [],
   "source": [
    "conn.commit()"
   ]
  },
  {
   "cell_type": "markdown",
   "metadata": {},
   "source": [
    "# <span style=\"color:red \"> En la Base de datos no se actualiza hasta hacer commit </span>: Consultar en la terminal"
   ]
  },
  {
   "cell_type": "code",
   "execution_count": null,
   "metadata": {},
   "outputs": [],
   "source": [
    "\n",
    "sistema_abc=> SELECT * FROM productos;\n",
    "  1 | camisa      |  99.99\n",
    "  2 | pantalon    | 499.99"
   ]
  },
  {
   "cell_type": "code",
   "execution_count": null,
   "metadata": {},
   "outputs": [],
   "source": [
    "conn.commit()"
   ]
  },
  {
   "cell_type": "markdown",
   "metadata": {},
   "source": [
    "# Consultar en la terminal"
   ]
  },
  {
   "cell_type": "code",
   "execution_count": null,
   "metadata": {},
   "outputs": [],
   "source": [
    "id_registro = 2 \n",
    "# Ejecutar la consulta para borrar el registro\n",
    "cur = conn.cursor()\n",
    "cur.execute(f\"DELETE FROM productos WHERE id = {id_registro}\")\n",
    "cur.close()\n",
    "conn.commit()"
   ]
  },
  {
   "cell_type": "markdown",
   "metadata": {},
   "source": [
    "# Consultar en la terminal"
   ]
  },
  {
   "cell_type": "code",
   "execution_count": null,
   "metadata": {},
   "outputs": [],
   "source": [
    "sistema_abc=> SELECT * FROM productos;\n",
    "  1 | camisa      |  99.99\n",
    "  3 | gorras      | 399.00"
   ]
  },
  {
   "cell_type": "markdown",
   "metadata": {},
   "source": [
    "# Cerrar la conexión a la Base de Datos"
   ]
  },
  {
   "cell_type": "code",
   "execution_count": null,
   "metadata": {},
   "outputs": [],
   "source": [
    "conn.close()"
   ]
  },
  {
   "cell_type": "markdown",
   "metadata": {},
   "source": [
    "## Ejercicio\n",
    "\n",
    "### 1. Crear una clase ConexionDB con las funcionalidades:\n",
    "\n",
    "- Abrir la conexión\n",
    "- Cerrar conexión\n",
    "- Ejecutar  Comando / cursor:\n",
    "    \n",
    "    - Consultar \n",
    "        - Debe crear el cursor y cerrarlo dentro\n",
    "        - Debe retornar los datos consultados\n",
    "\n",
    "\n",
    "- Demostrar el uso de la clase, creando un objeto de tipo ConexionDB y hacer uso de consultar.\n",
    "\n",
    "\n",
    "\n"
   ]
  },
  {
   "cell_type": "code",
   "execution_count": null,
   "metadata": {},
   "outputs": [],
   "source": []
  },
  {
   "cell_type": "code",
   "execution_count": null,
   "metadata": {},
   "outputs": [],
   "source": []
  },
  {
   "cell_type": "code",
   "execution_count": null,
   "metadata": {},
   "outputs": [],
   "source": []
  },
  {
   "cell_type": "markdown",
   "metadata": {},
   "source": [
    "\n",
    "# Conexión con archivo de configuración"
   ]
  },
  {
   "cell_type": "markdown",
   "metadata": {},
   "source": [
    "### Crear un archivo de configuración para la conexión (database.ini)\n",
    "\n",
    "```\n",
    "[postgresql]\n",
    "host=localhost\n",
    "database=sistema_abc\n",
    "user=uacm\n",
    "password=uacm1\n",
    "```"
   ]
  },
  {
   "cell_type": "markdown",
   "metadata": {},
   "source": []
  },
  {
   "cell_type": "code",
   "execution_count": null,
   "metadata": {},
   "outputs": [],
   "source": [
    "from configparser import ConfigParser\n",
    "import psycopg2\n",
    "\n",
    "def load_config(filename='database.ini', section='postgresql'):\n",
    "    parser = ConfigParser()\n",
    "    parser.read(filename)\n",
    "\n",
    "    # obtiene la seccion por default postgresql\n",
    "    config = {}\n",
    "    if parser.has_section(section):\n",
    "        for param in parser.items(section):\n",
    "            config[param[0]] = param[1]\n",
    "    else:\n",
    "        raise Exception('La sección  {0} no se encuentra en  {1}'.format(section, filename))\n",
    "\n",
    "    return config\n",
    "\n",
    "def connect(**config):\n",
    "    try:\n",
    "        # conectando al servidor de PostgreSQL \n",
    "        conn = psycopg2.connect(**config)\n",
    "        print('Conectado con el Servidor de PostgreSQL')\n",
    "        return conn\n",
    "    except (psycopg2.DatabaseError, Exception) as error:\n",
    "        print(error)\n",
    "\n",
    "\n",
    "config = load_config()\n",
    "print(config)\n",
    "conn = connect(**config)"
   ]
  },
  {
   "cell_type": "code",
   "execution_count": null,
   "metadata": {},
   "outputs": [],
   "source": [
    "# Abrir un cursor para hacer operaciones\n",
    "\n",
    "cur = conn.cursor()\n",
    "cur.execute(\"SELECT * FROM productos\")\n",
    "registros = cur.fetchall()\n",
    "cur.close()\n",
    "\n",
    "for r in registros:\n",
    "    idx, desc, precio = r     \n",
    "    print(\"identificador: {}\".format(idx))\n",
    "    print(\"\\tdescripción: {}\".format(desc))\n",
    "    print(\"\\tprecio: {}\".format(precio))"
   ]
  },
  {
   "cell_type": "code",
   "execution_count": null,
   "metadata": {},
   "outputs": [],
   "source": [
    "conn.close()"
   ]
  },
  {
   "cell_type": "markdown",
   "metadata": {},
   "source": [
    "## Ejercicio\n",
    "\n",
    "### 1. Crear una clase ConexionDB con las funcionalidades:\n",
    "\n",
    "- Abrir la conexión\n",
    "- Cerrar conexión\n",
    "- Ejecutar  Comando / cursor:\n",
    "    \n",
    "    - Insertar \n",
    "    - Actualizar\n",
    "    - Borrar\n",
    "\n",
    "\n",
    "- Demostrar el uso de la clase, creando un objeto de tipo ConexionDB y hacer uso los comandos.\n",
    "\n",
    "\n",
    "\n"
   ]
  }
 ],
 "metadata": {
  "kernelspec": {
   "display_name": "base",
   "language": "python",
   "name": "python3"
  },
  "language_info": {
   "codemirror_mode": {
    "name": "ipython",
    "version": 3
   },
   "file_extension": ".py",
   "mimetype": "text/x-python",
   "name": "python",
   "nbconvert_exporter": "python",
   "pygments_lexer": "ipython3",
   "version": "3.12.1"
  }
 },
 "nbformat": 4,
 "nbformat_minor": 2
}
