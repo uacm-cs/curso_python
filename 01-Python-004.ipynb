{
 "cells": [
  {
   "cell_type": "markdown",
   "metadata": {},
   "source": [
    "# <span style=\"color:#0485CF\"> Conexión a Base de Datos </span>\n"
   ]
  },
  {
   "cell_type": "markdown",
   "metadata": {},
   "source": [
    "### Instalación del manejador de Base de Datos: PostgreSQL\n",
    "\n",
    "#### https://www.postgresql.org\n",
    "\n",
    "- PostgreSQL, comúnmente pronunciado \"Post-GRES\"\n",
    "- Es una base de datos de código abierto que tiene una sólida reputación por su fiabilidad, flexibilidad y soporte de estándares técnicos abiertos.\n",
    "- PostgreSQL está completamente libre de restricciones de licencia"
   ]
  },
  {
   "cell_type": "markdown",
   "metadata": {},
   "source": [
    "### Creación de ambiente para PostgreSQL\n",
    "\n",
    "- En la terminal colocar  los siguientes comandos\n"
   ]
  },
  {
   "cell_type": "markdown",
   "metadata": {},
   "source": [
    "#### Crear el ambiente"
   ]
  },
  {
   "cell_type": "code",
   "execution_count": null,
   "metadata": {},
   "outputs": [],
   "source": [
    "conda create --name  PostSQL python"
   ]
  },
  {
   "cell_type": "markdown",
   "metadata": {},
   "source": [
    "#### Activar el ambiente"
   ]
  },
  {
   "cell_type": "code",
   "execution_count": null,
   "metadata": {},
   "outputs": [],
   "source": [
    "conda activate PostSQL"
   ]
  },
  {
   "cell_type": "code",
   "execution_count": null,
   "metadata": {},
   "outputs": [],
   "source": []
  },
  {
   "cell_type": "markdown",
   "metadata": {},
   "source": [
    "### Instalación de la GUI (Encaso de que no se encuentre en la instalación)"
   ]
  },
  {
   "cell_type": "code",
   "execution_count": null,
   "metadata": {},
   "outputs": [],
   "source": [
    "pip install pgadmin4"
   ]
  },
  {
   "cell_type": "code",
   "execution_count": null,
   "metadata": {},
   "outputs": [],
   "source": []
  },
  {
   "cell_type": "markdown",
   "metadata": {},
   "source": [
    "### Instalación de paquetes para PosgreSQL en el ambiente creado"
   ]
  },
  {
   "cell_type": "code",
   "execution_count": null,
   "metadata": {},
   "outputs": [],
   "source": [
    "!pip install psycopg2\n",
    "!pip install psycopg2-binary"
   ]
  },
  {
   "cell_type": "markdown",
   "metadata": {},
   "source": [
    "### Crear un usuario de conexion"
   ]
  },
  {
   "cell_type": "markdown",
   "metadata": {},
   "source": [
    "### Desde el prompt de postgreSQL"
   ]
  },
  {
   "cell_type": "code",
   "execution_count": null,
   "metadata": {},
   "outputs": [],
   "source": [
    "psql -U postgres"
   ]
  },
  {
   "cell_type": "code",
   "execution_count": null,
   "metadata": {},
   "outputs": [],
   "source": [
    "\n",
    "CREATE USER uacm WITH PASSWORD 'uacm1';\n"
   ]
  },
  {
   "cell_type": "code",
   "execution_count": null,
   "metadata": {},
   "outputs": [],
   "source": [
    "# comando para listar os usuarios \n",
    "\\du"
   ]
  },
  {
   "cell_type": "code",
   "execution_count": null,
   "metadata": {},
   "outputs": [],
   "source": [
    "# Privilegios para crear BD\n",
    "ALTER USER uacm CREATEDB;"
   ]
  },
  {
   "cell_type": "code",
   "execution_count": null,
   "metadata": {},
   "outputs": [],
   "source": [
    "#c Cambiarse al usuario creado para crear BDs o \n",
    "SET ROLE uacm;"
   ]
  },
  {
   "cell_type": "code",
   "execution_count": null,
   "metadata": {},
   "outputs": [],
   "source": [
    "# Salir de psql \n",
    "exit"
   ]
  },
  {
   "cell_type": "markdown",
   "metadata": {},
   "source": [
    "### Crear una base de datos"
   ]
  },
  {
   "cell_type": "markdown",
   "metadata": {},
   "source": [
    "### Desde la terminal"
   ]
  },
  {
   "cell_type": "code",
   "execution_count": null,
   "metadata": {},
   "outputs": [],
   "source": [
    "# Desde la terminal \n",
    "psql -U uacm postgres\n"
   ]
  },
  {
   "cell_type": "code",
   "execution_count": null,
   "metadata": {},
   "outputs": [],
   "source": [
    "CREATE DATABASE sistema_abc\n",
    "  WITH ENCODING='UTF8'\n",
    "  LC_COLLATE='es_ES.UTF-8'\n",
    "  LC_CTYPE='es_ES.UTF-8'\n",
    "  TEMPLATE=template0;"
   ]
  },
  {
   "cell_type": "code",
   "execution_count": null,
   "metadata": {},
   "outputs": [],
   "source": [
    "# Listar las Bases de Datos disponibles\n",
    "\\l"
   ]
  },
  {
   "cell_type": "code",
   "execution_count": null,
   "metadata": {},
   "outputs": [],
   "source": [
    "# Conectarse a la Base de Datos sistemaABC\n",
    "\\c sistema_abc"
   ]
  },
  {
   "cell_type": "markdown",
   "metadata": {},
   "source": [
    "### Crear la tabla"
   ]
  },
  {
   "cell_type": "code",
   "execution_count": null,
   "metadata": {},
   "outputs": [],
   "source": [
    "CREATE TABLE productos (\n",
    "    id SERIAL PRIMARY KEY,\n",
    "    descripcion TEXT,\n",
    "    precio NUMERIC(10, 2)\n",
    ");"
   ]
  },
  {
   "cell_type": "code",
   "execution_count": null,
   "metadata": {},
   "outputs": [],
   "source": [
    "# Listar las tablas\n",
    "\n",
    "\\dt"
   ]
  },
  {
   "cell_type": "code",
   "execution_count": null,
   "metadata": {},
   "outputs": [],
   "source": [
    "# Mostrar detalles de la tabla\n",
    "\\d productos"
   ]
  },
  {
   "cell_type": "code",
   "execution_count": null,
   "metadata": {},
   "outputs": [],
   "source": [
    "# Insertar datos \n",
    "INSERT INTO productos (descripcion, precio) VALUES ('camisa', 99.99);\n",
    "\n",
    "INSERT INTO productos (descripcion, precio) VALUES ('pantalon', 499.99);\n"
   ]
  },
  {
   "cell_type": "code",
   "execution_count": null,
   "metadata": {},
   "outputs": [],
   "source": [
    "# Seleccionar datos\n",
    "\n",
    "SELECT * FROM productos;\n"
   ]
  },
  {
   "cell_type": "markdown",
   "metadata": {},
   "source": [
    "# Conexión a la Base de Datos desde Python"
   ]
  },
  {
   "cell_type": "code",
   "execution_count": null,
   "metadata": {},
   "outputs": [],
   "source": [
    "import psycopg2\n",
    "\n",
    "def connect():\n",
    "    try:\n",
    "        # conectando al servidor de PostgreSQL \n",
    "        conn = psycopg2.connect(\n",
    "                            host=\"localhost\",\n",
    "                            database=\"sistema_abc\",\n",
    "                            user=\"uacm\",\n",
    "                            password=\"uacm1\"\n",
    "                        )\n",
    "        print('Conectado con el Servidor de PostgreSQL')\n",
    "        return conn\n",
    "    except (psycopg2.DatabaseError, Exception) as error:\n",
    "        print(error)\n",
    "\n",
    "\n",
    "conn = connect()"
   ]
  },
  {
   "cell_type": "code",
   "execution_count": null,
   "metadata": {},
   "outputs": [],
   "source": []
  },
  {
   "cell_type": "code",
   "execution_count": 5,
   "metadata": {},
   "outputs": [
    {
     "name": "stdout",
     "output_type": "stream",
     "text": [
      "identificador: 1\n",
      "\tdescripción: camisa\n",
      "\tprecio: 99.99\n",
      "identificador: 2\n",
      "\tdescripción: pantalon\n",
      "\tprecio: 499.99\n"
     ]
    }
   ],
   "source": [
    "# Abrir un cursor para hacer operaciones\n",
    "\n",
    "cur = conn.cursor()\n",
    "cur.execute(\"SELECT * FROM productos\")\n",
    "registros = cur.fetchall()\n",
    "cur.close()\n",
    "\n",
    "for r in registros:\n",
    "    idx, desc, precio = r     \n",
    "    print(\"identificador: {}\".format(idx))\n",
    "    print(\"\\tdescripción: {}\".format(desc))\n",
    "    print(\"\\tprecio: {}\".format(precio))\n"
   ]
  },
  {
   "cell_type": "code",
   "execution_count": 6,
   "metadata": {},
   "outputs": [],
   "source": [
    "# insertar datos\n",
    "cur = conn.cursor()\n",
    "cur.execute(\"INSERT INTO productos(descripcion, precio) values ('gorras', 399);\")\n",
    "cur.close()\n",
    "\n",
    "\n"
   ]
  },
  {
   "cell_type": "markdown",
   "metadata": {},
   "source": [
    "# <span style=\"color:red \"> En la Base de datos no se actualiza hasta hacer commit </span>: Consultar en la terminal"
   ]
  },
  {
   "cell_type": "code",
   "execution_count": null,
   "metadata": {},
   "outputs": [],
   "source": [
    "\n",
    "sistema_abc=> SELECT * FROM productos;\n",
    "  1 | camisa      |  99.99\n",
    "  2 | pantalon    | 499.99"
   ]
  },
  {
   "cell_type": "code",
   "execution_count": 7,
   "metadata": {},
   "outputs": [],
   "source": [
    "conn.commit()"
   ]
  },
  {
   "cell_type": "markdown",
   "metadata": {},
   "source": [
    "# Consultar en la terminal"
   ]
  },
  {
   "cell_type": "code",
   "execution_count": 8,
   "metadata": {},
   "outputs": [],
   "source": [
    "id_registro = 2 \n",
    "# Ejecutar la consulta para borrar el registro\n",
    "cur = conn.cursor()\n",
    "cur.execute(\"DELETE FROM productos WHERE id = %s\", (id_registro,))\n",
    "cur.close()\n",
    "conn.commit()"
   ]
  },
  {
   "cell_type": "markdown",
   "metadata": {},
   "source": [
    "# Consultar en la terminal"
   ]
  },
  {
   "cell_type": "code",
   "execution_count": null,
   "metadata": {},
   "outputs": [],
   "source": [
    "sistema_abc=> SELECT * FROM productos;\n",
    "  1 | camisa      |  99.99\n",
    "  3 | gorras      | 399.00"
   ]
  },
  {
   "cell_type": "markdown",
   "metadata": {},
   "source": [
    "# Cerrar la conexión a la Base de Datos"
   ]
  },
  {
   "cell_type": "code",
   "execution_count": null,
   "metadata": {},
   "outputs": [],
   "source": [
    "conn.close()"
   ]
  },
  {
   "cell_type": "markdown",
   "metadata": {},
   "source": [
    "\n",
    "# Conexión con archivo de configuración"
   ]
  },
  {
   "cell_type": "markdown",
   "metadata": {},
   "source": [
    "### Crear un archivo de configuración para la conexión (database.ini)\n",
    "\n",
    "```\n",
    "[postgresql]\n",
    "host=localhost\n",
    "database=sistema_abc\n",
    "user=uacm\n",
    "password=uacm1\n",
    "```"
   ]
  },
  {
   "cell_type": "markdown",
   "metadata": {},
   "source": []
  },
  {
   "cell_type": "code",
   "execution_count": 9,
   "metadata": {},
   "outputs": [
    {
     "name": "stdout",
     "output_type": "stream",
     "text": [
      "{'host': 'localhost', 'database': 'sistema_abc', 'user': 'uacm', 'password': 'uacm1'}\n",
      "Conectado con el Servidor de PostgreSQL\n"
     ]
    }
   ],
   "source": [
    "from configparser import ConfigParser\n",
    "import psycopg2\n",
    "\n",
    "def load_config(filename='database.ini', section='postgresql'):\n",
    "    parser = ConfigParser()\n",
    "    parser.read(filename)\n",
    "\n",
    "    # obtiene la seccion por default postgresql\n",
    "    config = {}\n",
    "    if parser.has_section(section):\n",
    "        for param in parser.items(section):\n",
    "            config[param[0]] = param[1]\n",
    "    else:\n",
    "        raise Exception('La sección  {0} no se encuentra en  {1}'.format(section, filename))\n",
    "\n",
    "    return config\n",
    "\n",
    "def connect(**config):\n",
    "    try:\n",
    "        # conectando al servidor de PostgreSQL \n",
    "        conn = psycopg2.connect(**config)\n",
    "        print('Conectado con el Servidor de PostgreSQL')\n",
    "        return conn\n",
    "    except (psycopg2.DatabaseError, Exception) as error:\n",
    "        print(error)\n",
    "\n",
    "\n",
    "config = load_config()\n",
    "print(config)\n",
    "conn = connect(**config)"
   ]
  },
  {
   "cell_type": "code",
   "execution_count": 10,
   "metadata": {},
   "outputs": [
    {
     "name": "stdout",
     "output_type": "stream",
     "text": [
      "identificador: 1\n",
      "\tdescripción: camisa\n",
      "\tprecio: 99.99\n",
      "identificador: 3\n",
      "\tdescripción: gorras\n",
      "\tprecio: 399.00\n"
     ]
    }
   ],
   "source": [
    "# Abrir un cursor para hacer operaciones\n",
    "\n",
    "cur = conn.cursor()\n",
    "cur.execute(\"SELECT * FROM productos\")\n",
    "registros = cur.fetchall()\n",
    "cur.close()\n",
    "\n",
    "for r in registros:\n",
    "    idx, desc, precio = r     \n",
    "    print(\"identificador: {}\".format(idx))\n",
    "    print(\"\\tdescripción: {}\".format(desc))\n",
    "    print(\"\\tprecio: {}\".format(precio))"
   ]
  },
  {
   "cell_type": "code",
   "execution_count": 11,
   "metadata": {},
   "outputs": [],
   "source": [
    "conn.close()"
   ]
  }
 ],
 "metadata": {
  "kernelspec": {
   "display_name": "base",
   "language": "python",
   "name": "python3"
  },
  "language_info": {
   "codemirror_mode": {
    "name": "ipython",
    "version": 3
   },
   "file_extension": ".py",
   "mimetype": "text/x-python",
   "name": "python",
   "nbconvert_exporter": "python",
   "pygments_lexer": "ipython3",
   "version": "3.12.1"
  }
 },
 "nbformat": 4,
 "nbformat_minor": 2
}
