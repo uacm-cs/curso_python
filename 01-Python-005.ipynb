{
 "cells": [
  {
   "cell_type": "markdown",
   "metadata": {},
   "source": [
    "#  Flask\n",
    "\n",
    " - Flask es un framework web: Proporciona las herramientas para crear aplicaciones web\n",
    " - Es un microframework: Sin dependencias a librerías externas\n",
    "-  Framework ligero\n",
    "- "
   ]
  },
  {
   "cell_type": "code",
   "execution_count": null,
   "metadata": {},
   "outputs": [],
   "source": []
  },
  {
   "cell_type": "markdown",
   "metadata": {},
   "source": [
    "# Instalar Flask"
   ]
  },
  {
   "cell_type": "code",
   "execution_count": null,
   "metadata": {},
   "outputs": [],
   "source": [
    "pip install flask"
   ]
  },
  {
   "cell_type": "code",
   "execution_count": 1,
   "metadata": {},
   "outputs": [
    {
     "name": "stdout",
     "output_type": "stream",
     "text": [
      "2.3.3\n"
     ]
    }
   ],
   "source": [
    "import flask\n",
    "print(flask.__version__)"
   ]
  },
  {
   "cell_type": "code",
   "execution_count": 2,
   "metadata": {},
   "outputs": [],
   "source": [
    "# Crear el directorio de la aplicación\n",
    "!mkdir app_web\n"
   ]
  },
  {
   "cell_type": "markdown",
   "metadata": {},
   "source": [
    "### Aplicacion Web en FLASK \n",
    "\n",
    "- Una vez que cree la instancia app, la utiliza para gestionar las solicitudes web entrantes y enviar respuestas al usuario. \n",
    "\n",
    "- @app.route es un decorador que convierte una función Python regular en una función vista de Flask\n",
    "\n",
    "- Convierte el valor de devolución de la función en una respuesta HTTP que se mostrará mediante un cliente HTTP\n",
    "\n",
    "-  Pasa el valor '/' a @app.route() para indicar que esta función responderá a las solicitudes web para la URL /, que es la URL principal.\n",
    "\n",
    "- La función de vista hello() devuelve la cadena 'Hello, World!'​​ como respuesta."
   ]
  },
  {
   "cell_type": "code",
   "execution_count": null,
   "metadata": {},
   "outputs": [],
   "source": [
    "# Crear el archivo inicio.py\n",
    "\n",
    "from flask import Flask\n",
    "\n",
    "app = Flask(__name__)\n",
    "\n",
    "\n",
    "@app.route('/')\n",
    "def inicio():\n",
    "    return '¡Hola, mundo! Esta es mi primera aplicación Flask.'\n",
    "\n",
    "if __name__ == '__main__':\n",
    "    app.run(debug=True)\n"
   ]
  },
  {
   "cell_type": "markdown",
   "metadata": {},
   "source": [
    "### Ejecutar la aplicacion\n"
   ]
  },
  {
   "cell_type": "markdown",
   "metadata": {},
   "source": [
    "#### Desde la terminal, en el directorio de la aplicación\n",
    "\n",
    "#### <span style=\"color:#0485CF\"> python inicio.py </span>\n",
    "\n",
    "\n",
    "\n",
    "```\n",
    "* Running on http://127.0.0.1:5000\n",
    "Press CTRL+C to quit\n",
    " * Restarting with stat\n",
    " * Debugger is active!\n",
    " * Debugger PIN: 947-720-893\n",
    "127.0.0.1 - - [16/Feb/2024 14:56:02] \"GET / HTTP/1.1\" 200 -\n",
    "127.0.0.1 - - [16/Feb/2024 14:56:02] \"GET /favicon.ico HTTP/1.1\" 404 -\n",
    "127.0.0.1 - - [16/Feb/2024 14:58:34] \"GET / HTTP/1.1\" 200 -\n",
    "```\n",
    "\n"
   ]
  },
  {
   "cell_type": "markdown",
   "metadata": {},
   "source": [
    "#### Otra forma de ejecuta la aplicación web usando el puerto 5000\n",
    "#### <span style=\"color:#0485CF\"> flask --app inicio.py --debug run -p 5000 </span>\n",
    "\n"
   ]
  },
  {
   "cell_type": "markdown",
   "metadata": {},
   "source": [
    "# Entrar al navegador para ver los resultados\n",
    "http://127.0.0.1:5000\n"
   ]
  },
  {
   "cell_type": "code",
   "execution_count": null,
   "metadata": {},
   "outputs": [],
   "source": []
  },
  {
   "cell_type": "code",
   "execution_count": null,
   "metadata": {},
   "outputs": [],
   "source": []
  },
  {
   "cell_type": "markdown",
   "metadata": {},
   "source": [
    "# Ejemplo de pagina de login con HTML\n",
    "\n",
    "1. Crear la carpeta \"templates\" en el directorio de la aplicación\n",
    "1. Tener una plantilla HTML para tu página de inicio de sesión\n"
   ]
  },
  {
   "cell_type": "code",
   "execution_count": null,
   "metadata": {},
   "outputs": [],
   "source": [
    "# templates/login.html:\n",
    "\n",
    "<!DOCTYPE html>\n",
    "<html lang=\"es\">\n",
    "<head>\n",
    "    <meta charset=\"UTF-8\">\n",
    "    <meta name=\"viewport\" content=\"width=device-width, initial-scale=1.0\">\n",
    "    <title>Iniciar sesión</title>\n",
    "</head>\n",
    "<body>\n",
    "    <h1>Iniciar sesión</h1>\n",
    "    <form action=\"/login\" method=\"post\">\n",
    "        <label for=\"username\">Usuario:</label><br>\n",
    "        <input type=\"text\" id=\"usuario\" name=\"username\"><br>\n",
    "        <label for=\"password\">Contraseña:</label><br>\n",
    "        <input type=\"password\" id=\"contrasena\" name=\"password\"><br><br>\n",
    "        <input type=\"submit\" value=\"Iniciar sesión\">\n",
    "    </form>\n",
    "</body>\n",
    "</html>"
   ]
  },
  {
   "cell_type": "markdown",
   "metadata": {},
   "source": [
    "3. En la aplicación Flask,  definir una ruta para la página de inicio de sesión y otra para manejar el envío del formulario de inicio de sesión."
   ]
  },
  {
   "cell_type": "code",
   "execution_count": null,
   "metadata": {},
   "outputs": [],
   "source": [
    "from flask import Flask, render_template, request, redirect, url_for\n",
    "\n",
    "\n",
    "app = Flask(__name__)\n",
    "\n",
    "# Datos de usuarios (simulados para el ejemplo)\n",
    "USUARIOS = {\n",
    "    'usuario1': 'u1',\n",
    "    'usuario2': 'u2'\n",
    "}\n",
    "\n",
    "\n",
    "\n",
    "@app.route('/')\n",
    "def inicio():\n",
    "    return '¡Hola, mundo! Esta es mi primera aplicación Flask.'\n",
    "\n",
    "@app.route('/login', methods=['GET', 'POST'])\n",
    "def login():\n",
    "    if request.method == 'POST':\n",
    "        username = request.form['usuario']\n",
    "        password = request.form['contrasena']\n",
    "        if username in USUARIOS and USUARIOS[username] == password:\n",
    "            # Iniciar sesión exitosa, redirigir a otra página\n",
    "            return redirect(url_for('inicio'))\n",
    "        else:\n",
    "            # Credenciales incorrectas, mostrar mensaje de error\n",
    "            return 'Credenciales incorrectas. <a href=\"/login\">Intenta de nuevo</a>'\n",
    "    else:\n",
    "        return render_template('login.html')\n",
    "    \n",
    "\n",
    "\n",
    "if __name__ == '__main__':\n",
    "    app.run(debug=True)\n"
   ]
  },
  {
   "cell_type": "code",
   "execution_count": null,
   "metadata": {},
   "outputs": [],
   "source": []
  },
  {
   "cell_type": "code",
   "execution_count": null,
   "metadata": {},
   "outputs": [],
   "source": []
  },
  {
   "cell_type": "code",
   "execution_count": null,
   "metadata": {},
   "outputs": [],
   "source": []
  },
  {
   "cell_type": "code",
   "execution_count": null,
   "metadata": {},
   "outputs": [],
   "source": [
    "import psycopg2.pool\n",
    "from flask import Flask, g\n",
    "\n",
    "app = Flask(__name__)\n",
    "\n",
    "\n",
    "db_config = load_config()\n",
    "# Crear un pool de conexiones\n",
    "pool = psycopg2.pool.SimpleConnectionPool(minconn=1, maxconn=5, **db_config)\n",
    "\n",
    "def obtener_conexion():\n",
    "    # Obtener una conexión del pool\n",
    "    return pool.getconn()\n",
    "\n",
    "def liberar_conexion(conexion):\n",
    "    # Devolver la conexión al pool\n",
    "    pool.putconn(conexion)\n",
    "\n",
    "@app.teardown_appcontext\n",
    "def cerrar_pool(exception):\n",
    "    # Liberar todas las conexiones del pool al finalizar la aplicación\n",
    "    global pool \n",
    "    pool.closeall()\n",
    "\n",
    "    \n",
    "@app.route('/')\n",
    "def index():\n",
    "    try:\n",
    "        # Obtener una conexión\n",
    "        conexion = obtener_conexion()\n",
    "\n",
    "        # Crear un cursor\n",
    "        cursor = conexion.cursor()\n",
    "\n",
    "        # Ejecutar una consulta\n",
    "        cursor.execute(\"SELECT * FROM productos\")\n",
    "\n",
    "        # Obtener los resultados\n",
    "        filas = cursor.fetchall()\n",
    "\n",
    "        # Mostrar los resultados\n",
    "        for fila in filas:\n",
    "            print(fila)\n",
    "\n",
    "        # Cerrar el cursor\n",
    "        cursor.close()\n",
    "\n",
    "        # Liberar la conexión\n",
    "        liberar_conexion(conexion)\n",
    "\n",
    "    except Exception as e:\n",
    "        print(\"Error:\", e)\n",
    "\n",
    "    return \"Consulta realizada. Revisa la consola para ver los resultados.\"\n",
    "\n",
    "if __name__ == '__main__':\n",
    "    app.run(debug=True)"
   ]
  }
 ],
 "metadata": {
  "kernelspec": {
   "display_name": "PostSQL",
   "language": "python",
   "name": "python3"
  },
  "language_info": {
   "codemirror_mode": {
    "name": "ipython",
    "version": 3
   },
   "file_extension": ".py",
   "mimetype": "text/x-python",
   "name": "python",
   "nbconvert_exporter": "python",
   "pygments_lexer": "ipython3",
   "version": "3.12.1"
  }
 },
 "nbformat": 4,
 "nbformat_minor": 2
}
