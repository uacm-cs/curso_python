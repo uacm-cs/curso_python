{
 "cells": [
  {
   "cell_type": "markdown",
   "metadata": {},
   "source": [
    "\n",
    "\n",
    "# <span style=\"color:#0485CF\"> Pruebas unitarias: pytest, agrupando múltiples tests</span>\n",
    "\n",
    "\n",
    " - ### Por convención pytest busca funciones con el prefijo \"test\"\n",
    " \n",
    " - ### Las clases deben tener el prefijo \"Test\", de lo contrario la clase no se ejecutará \n",
    "\n",
    "\n",
    " - ### https://docs.pytest.org"
   ]
  },
  {
   "cell_type": "markdown",
   "metadata": {},
   "source": [
    "## Creando la clase TestEjemplo1.py\n"
   ]
  },
  {
   "cell_type": "markdown",
   "metadata": {},
   "source": [
    "### Crear el archivo test_clase_ejemplo1.py\n"
   ]
  },
  {
   "cell_type": "code",
   "execution_count": null,
   "metadata": {},
   "outputs": [],
   "source": [
    "# contenido test_clase_ejemplo1.py\n",
    "\n",
    "class TestEjemplo1:\n",
    "    def test_ejem1(self):\n",
    "        x = \"hola\"\n",
    "        assert \"h\" in x\n",
    "\n",
    "    def test_ejem2(self):\n",
    "        x = \"hello\"\n",
    "        assert isinstance(x, str) # revisa si el objeto es instancia de el tipo de dato srt"
   ]
  },
  {
   "cell_type": "markdown",
   "metadata": {},
   "source": [
    "## Ejecución del test, desde la terminal\n",
    "\n",
    "### pytest test_clase_ejemplo1.py\n",
    "\n",
    "<br/>\n",
    "<br/>\n",
    "<br/>"
   ]
  },
  {
   "cell_type": "markdown",
   "metadata": {},
   "source": [
    "## Uso de Fixtures"
   ]
  },
  {
   "cell_type": "markdown",
   "metadata": {},
   "source": [
    "## Ejemplo1\n"
   ]
  },
  {
   "cell_type": "code",
   "execution_count": null,
   "metadata": {},
   "outputs": [],
   "source": [
    "# en el archivo test_calcular.py\n",
    "\n",
    "import pytest\n",
    "\n",
    "# Definir la función que queremos probar\n",
    "def calcular(a, b):\n",
    "    return a * b\n",
    "\n",
    "# Definir una fixture para proporcionar datos de prueba\n",
    "@pytest.fixture\n",
    "def input_values():\n",
    "    a = 5\n",
    "    b = 3\n",
    "    return a, b\n",
    "\n",
    "# Definir el caso de prueba que utiliza la fixture\n",
    "def test_calcular(input_values):\n",
    "    a, b = input_values\n",
    "    result = calcular(a, b)\n",
    "    assert result == 15  # Verificar que el resultado es el esperado"
   ]
  },
  {
   "cell_type": "code",
   "execution_count": null,
   "metadata": {},
   "outputs": [],
   "source": []
  },
  {
   "cell_type": "markdown",
   "metadata": {},
   "source": [
    "## Uso de marcadores \n"
   ]
  },
  {
   "cell_type": "code",
   "execution_count": null,
   "metadata": {},
   "outputs": [],
   "source": [
    "import pytest\n",
    "\n",
    "def get_user_info(user_id):\n",
    "\n",
    "    # Estos datos generalmente provienen de la Base de Datos o de una API\n",
    "    if user_id == 1:\n",
    "        return {'name': 'Luisa', 'age': 30}\n",
    "    elif user_id == 2:\n",
    "        return {'name': 'Pedro', 'age': 40}\n",
    "    elif user_id == 3:\n",
    "        return {'name': 'Juan', 'age': 50}\n",
    "    else:\n",
    "        return None\n",
    "\n",
    "@pytest.mark.parametrize(\"user_id, expected_name, expected_age\", [\n",
    "    (1, 'Luisa', 30),\n",
    "    (2, 'Pedro', 40),\n",
    "    (3, 'Juan', 50),\n",
    "    (4, None, None),\n",
    "])\n",
    "def test_get_user_info(user_id, expected_name, expected_age):\n",
    "    user_info = get_user_info(user_id)\n",
    "    if user_info is None:\n",
    "        assert user_info == expected_name\n",
    "    else:\n",
    "        assert user_info['name'] == expected_name\n",
    "        assert user_info['age'] == expected_age"
   ]
  },
  {
   "cell_type": "markdown",
   "metadata": {},
   "source": [
    "## Ejecución del test2\n",
    "\n",
    "### pytest test_ejemplo2.py\n",
    "\n",
    "<br/>\n",
    "<br/>\n",
    "<br/>\n",
    "\n",
    "<img src=\"img/fig_test2.png\" width=\"1200\">"
   ]
  },
  {
   "cell_type": "code",
   "execution_count": null,
   "metadata": {},
   "outputs": [],
   "source": []
  },
  {
   "cell_type": "code",
   "execution_count": null,
   "metadata": {},
   "outputs": [],
   "source": []
  },
  {
   "cell_type": "markdown",
   "metadata": {},
   "source": [
    "# <span style=\"color:#0485CF\"> Ejercicio: </span>\n",
    "\n",
    "### Crear las pruebas unitarias para dos funciones\n",
    "\n",
    "- ### Función que calcule el factorial de un número\n",
    "\n",
    "- ### Función que calcule el promedio de una lista de números\n"
   ]
  },
  {
   "cell_type": "code",
   "execution_count": null,
   "metadata": {},
   "outputs": [],
   "source": []
  },
  {
   "cell_type": "code",
   "execution_count": null,
   "metadata": {},
   "outputs": [],
   "source": []
  },
  {
   "cell_type": "code",
   "execution_count": null,
   "metadata": {},
   "outputs": [],
   "source": []
  },
  {
   "cell_type": "code",
   "execution_count": null,
   "metadata": {},
   "outputs": [],
   "source": []
  },
  {
   "cell_type": "markdown",
   "metadata": {},
   "source": [
    "## Ejecución de múltiples test\n",
    "\n",
    "###  PyTest ejecutará todos los archivos de la forma test_*.py o *_test.py en el directorio actual y en los subdirectorios\n",
    "\n",
    "### > pytest \n",
    "\n",
    "<br/>\n",
    "<br/>\n",
    "<br/>\n",
    "\n",
    "<img src=\"img/fig_test3.png\" width=\"1200\">"
   ]
  },
  {
   "cell_type": "code",
   "execution_count": null,
   "metadata": {},
   "outputs": [],
   "source": []
  },
  {
   "cell_type": "markdown",
   "metadata": {},
   "source": [
    "# Pruebas fuera del código de la aplicación\n",
    "\n",
    "- ### Se recomienda colocar los tests en un directorio fuera del código de la aplicación. \n",
    "- ### Esto con el fin de mantener separadas las pruebas del código de aplicación.\n",
    "\n",
    "<br/>\n",
    "<br/>\n",
    "<br/>\n",
    "\n",
    "### Estructura recomendada:\n",
    "\n",
    " ```:\n",
    "src/\n",
    "├── mypkg/\n",
    "    ├── __init__.py\n",
    "    ├── app.py\n",
    "    ├── view.py\n",
    "tests/\n",
    "    ├── test_app.py\n",
    "    ├── test_view.py\n",
    "    ├── ...\n",
    "```\n",
    "<br/>\n",
    "<br/>\n",
    "\n",
    "\n",
    "### Para crear un paquete se requiere agregar el archivo \"\\_\\_init\\_\\_.py\" al directorio que contiene el paquete\n",
    "```\n",
    "mi_paquete/\n",
    "├── __init__.py\n",
    "├── modulo1.py\n",
    "├── modulo2.py\n",
    "└── subpaquete/\n",
    "    ├── __init__.py\n",
    "    └── modulo3.py\n",
    "```\n"
   ]
  },
  {
   "cell_type": "code",
   "execution_count": null,
   "metadata": {},
   "outputs": [],
   "source": []
  },
  {
   "cell_type": "code",
   "execution_count": null,
   "metadata": {},
   "outputs": [],
   "source": []
  },
  {
   "cell_type": "markdown",
   "metadata": {},
   "source": [
    "# Creación del paquete y funciones de prueba\n",
    "\n",
    "<br/>\n",
    "\n",
    "### Estructura:\n",
    "\n",
    " ```:\n",
    "proyecto\n",
    "   ├── mi_paquete/\n",
    "   |    ├── __init__.py\n",
    "   |    ├── mis_funciones.py\n",
    "   ├── tests/\n",
    "   |    ├── __init__.py\n",
    "        ├── test_funciones.py\n",
    "```\n",
    "<br/>\n",
    "<br/>\n"
   ]
  },
  {
   "cell_type": "code",
   "execution_count": 7,
   "metadata": {},
   "outputs": [],
   "source": [
    "# Contenido del archivo mis_funciones.py\n",
    "\n",
    "def func_cuadratica(x):\n",
    "    return x * x\n",
    "\n",
    "\n",
    "def func_sumatoria(lista):\n",
    "    s = 0\n",
    "    for l in lista:\n",
    "        s +=l\n",
    "    return s"
   ]
  },
  {
   "cell_type": "code",
   "execution_count": 9,
   "metadata": {},
   "outputs": [],
   "source": [
    "# Contenido del archivo test_funciones.py\n",
    "\n",
    "from mi_paquete.mis_funciones import func_cuadratica, func_sumatoria\n",
    "\n",
    "def test_func_cuadratica():\n",
    "    assert func_cuadratica(3) == 9\n",
    "\n",
    "def test_func_sumatoria():\n",
    "    assert func_sumatoria([1,2,3]) == 6"
   ]
  },
  {
   "cell_type": "markdown",
   "metadata": {},
   "source": [
    "### Desde la terminal\n",
    "### En el caso de Windows: Desde la terminal de \"Anaconda Prompt\" ubicada en la carpeta de instalación\n"
   ]
  },
  {
   "cell_type": "markdown",
   "metadata": {},
   "source": [
    "### > pytest \n",
    "\n",
    "<br/>\n",
    "<br/>\n",
    "<br/>\n",
    "\n",
    "<img src=\"img/fig_test4.png\" width=\"1200\">"
   ]
  },
  {
   "cell_type": "code",
   "execution_count": null,
   "metadata": {},
   "outputs": [],
   "source": []
  },
  {
   "cell_type": "code",
   "execution_count": null,
   "metadata": {},
   "outputs": [],
   "source": []
  },
  {
   "cell_type": "markdown",
   "metadata": {},
   "source": [
    "# <span style=\"color:#0485CF\"> Ejercicio: </span>\n",
    "\n",
    "### Crear las pruebas unitarias independientes del código fuente para las siguientes funciones:\n",
    "\n",
    "- ### Función que calcule el factorial de un número\n",
    "\n",
    "- ### Función que calcule el promedio de una lista de números\n"
   ]
  }
 ],
 "metadata": {
  "kernelspec": {
   "display_name": "PostSQL",
   "language": "python",
   "name": "python3"
  },
  "language_info": {
   "codemirror_mode": {
    "name": "ipython",
    "version": 3
   },
   "file_extension": ".py",
   "mimetype": "text/x-python",
   "name": "python",
   "nbconvert_exporter": "python",
   "pygments_lexer": "ipython3",
   "version": "3.9.16"
  }
 },
 "nbformat": 4,
 "nbformat_minor": 2
}
