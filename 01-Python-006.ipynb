{
 "cells": [
  {
   "cell_type": "markdown",
   "metadata": {},
   "source": [
    "# Pruebas unitarias: pytest\n",
    " - ### Framework para crear pruebas compactas y legibles\n",
    " \n",
    " - ### Puede escalar para soportar testing funcional complejo para aplicaciones y bibliotecas\n",
    "\n",
    "\n",
    " - ### https://docs.pytest.org"
   ]
  },
  {
   "cell_type": "markdown",
   "metadata": {},
   "source": [
    "## Instalación de pytest"
   ]
  },
  {
   "cell_type": "code",
   "execution_count": null,
   "metadata": {},
   "outputs": [],
   "source": [
    "!pip install -U pytest"
   ]
  },
  {
   "cell_type": "markdown",
   "metadata": {},
   "source": [
    "## Creando el primer test con PyTest\n",
    "\n",
    "- ### pytest ejecutará todos los archivos de pruebas (*.py) que empiezan con \"test_*.py\",  pytest ejecutará automáticamente  los tests con el prefijo \"test_\" o que finalicen \"*_test.py\" en el directorio actual y sus subdirectorios\n",
    "\n",
    "- ### La función que deseamos probar debe empezar con \"test\"\n",
    "\n",
    "- ### pytest ejecutará automáticamente  los tests (funciones) que inicien con el prefijo \"test\"\n",
    "\n",
    "\n",
    "- ### Se puede usar la sentencia \"assert\" para verificar las expectativas de la prueba\n",
    "\n",
    "\n"
   ]
  },
  {
   "cell_type": "markdown",
   "metadata": {},
   "source": [
    "### Crear el archivo test_ejemplo1.py\n"
   ]
  },
  {
   "cell_type": "code",
   "execution_count": null,
   "metadata": {},
   "outputs": [],
   "source": [
    "# contenido test_ejemplo1.py\n",
    "\n",
    "def func(x):\n",
    "    return x + 1\n",
    "\n",
    "\n",
    "def test_respuesta():\n",
    "    assert func(3) == 5"
   ]
  },
  {
   "cell_type": "markdown",
   "metadata": {},
   "source": [
    "## Ejecución del test\n",
    "\n",
    "### pytest test_ejemplo1.py\n",
    "\n",
    "<br/>\n",
    "<br/>\n",
    "<br/>\n",
    "\n",
    "<img src=\"img/fig_test1.png\" width=\"1200\">"
   ]
  },
  {
   "cell_type": "code",
   "execution_count": null,
   "metadata": {},
   "outputs": [],
   "source": []
  },
  {
   "cell_type": "code",
   "execution_count": null,
   "metadata": {},
   "outputs": [],
   "source": []
  },
  {
   "cell_type": "code",
   "execution_count": null,
   "metadata": {},
   "outputs": [],
   "source": []
  },
  {
   "cell_type": "markdown",
   "metadata": {},
   "source": [
    "## Ejemplo2 \n"
   ]
  },
  {
   "cell_type": "code",
   "execution_count": null,
   "metadata": {},
   "outputs": [],
   "source": [
    "# contenido test_ejemplo2.py\n",
    "\n",
    "def func(x):\n",
    "    return x + 1\n",
    "\n",
    "\n",
    "def sumatoria(lista):\n",
    "    s = 0\n",
    "    for l in lista:\n",
    "        s +=l\n",
    "    return s\n",
    "\n",
    "def test_respuesta():\n",
    "    assert func(3) == 5\n",
    "\n",
    "\n",
    "def test_sumatoria():\n",
    "    assert sumatoria([1,2,3]) == 6\n",
    "    "
   ]
  },
  {
   "cell_type": "markdown",
   "metadata": {},
   "source": [
    "## Ejecución del test2\n",
    "\n",
    "### pytest test_ejemplo2.py\n",
    "\n",
    "<br/>\n",
    "<br/>\n",
    "<br/>\n",
    "\n",
    "<img src=\"img/fig_test2.png\" width=\"1200\">"
   ]
  },
  {
   "cell_type": "code",
   "execution_count": null,
   "metadata": {},
   "outputs": [],
   "source": []
  },
  {
   "cell_type": "code",
   "execution_count": null,
   "metadata": {},
   "outputs": [],
   "source": []
  },
  {
   "cell_type": "markdown",
   "metadata": {},
   "source": [
    "## Ejecución de múltiples test\n",
    "\n",
    "###  PyTest ejecutará todos los archivos de la forma test_*.py o *_test.py en el directorio actual y en los subdirectorios\n",
    "\n",
    "### > pytest \n",
    "\n",
    "<br/>\n",
    "<br/>\n",
    "<br/>\n",
    "\n",
    "<img src=\"img/fig_test3.png\" width=\"1200\">"
   ]
  },
  {
   "cell_type": "code",
   "execution_count": null,
   "metadata": {},
   "outputs": [],
   "source": []
  },
  {
   "cell_type": "markdown",
   "metadata": {},
   "source": [
    "# Pruebas fuera del código de la aplicación\n",
    "\n",
    "- ### Se recomienda colocar los tests en un directorio fuera del código de la aplicación. Esto con el fin de mantener separadas las pruebas del código de aplicación\n",
    "\n",
    "\n",
    "\n",
    " ```:\n",
    "src/\n",
    "    mypkg/\n",
    "        __init__.py\n",
    "        app.py\n",
    "        view.py\n",
    "tests/\n",
    "    test_app.py\n",
    "    test_view.py\n",
    "    ...\n",
    "```\n",
    "\n",
    "\n",
    "```\n",
    "mi_paquete/\n",
    "├── __init__.py\n",
    "├── modulo1.py\n",
    "├── modulo2.py\n",
    "└── subpaquete/\n",
    "    ├── __init__.py\n",
    "    └── modulo3.py\n",
    "```\n"
   ]
  }
 ],
 "metadata": {
  "kernelspec": {
   "display_name": "PostSQL",
   "language": "python",
   "name": "python3"
  },
  "language_info": {
   "codemirror_mode": {
    "name": "ipython",
    "version": 3
   },
   "file_extension": ".py",
   "mimetype": "text/x-python",
   "name": "python",
   "nbconvert_exporter": "python",
   "pygments_lexer": "ipython3",
   "version": "3.9.13"
  }
 },
 "nbformat": 4,
 "nbformat_minor": 2
}
