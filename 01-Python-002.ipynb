{
 "cells": [
  {
   "cell_type": "markdown",
   "metadata": {},
   "source": [
    "# Estructura de datos: Diccionarios\n",
    "- Los diccionarios en Python son una estructura de datos que permite almacenar su contenido en forma de clave y valor.\n",
    "- Son dinámicos: se pueden añadir o eliminar elementos.\n",
    "- Son indexados a través de la clave.\n",
    "- Son anidados: un diccionario puede contener a otro diccionario en su campo valor.\n",
    "\n",
    "\n"
   ]
  },
  {
   "cell_type": "markdown",
   "metadata": {},
   "source": []
  },
  {
   "cell_type": "markdown",
   "metadata": {},
   "source": []
  },
  {
   "cell_type": "markdown",
   "metadata": {},
   "source": [
    "### Definición de diccionarios"
   ]
  },
  {
   "cell_type": "code",
   "execution_count": 22,
   "metadata": {
    "collapsed": true
   },
   "outputs": [],
   "source": [
    "datos1 = {'nombre' : 'Juan', 'edad' : 22, 'calficaciones':[10,8,9]}"
   ]
  },
  {
   "cell_type": "code",
   "execution_count": 23,
   "metadata": {},
   "outputs": [
    {
     "data": {
      "text/plain": [
       "{'nombre': 'Juan', 'edad': 22, 'calficaciones': [10, 8, 9]}"
      ]
     },
     "execution_count": 23,
     "metadata": {},
     "output_type": "execute_result"
    }
   ],
   "source": [
    "datos1"
   ]
  },
  {
   "cell_type": "markdown",
   "metadata": {},
   "source": [
    "### Otra manera de definir diccionarios"
   ]
  },
  {
   "cell_type": "code",
   "execution_count": 24,
   "metadata": {
    "collapsed": true
   },
   "outputs": [],
   "source": [
    "datos2 = dict(nombre='Pedro', edad=28)"
   ]
  },
  {
   "cell_type": "code",
   "execution_count": 25,
   "metadata": {},
   "outputs": [
    {
     "data": {
      "text/plain": [
       "{'nombre': 'Pedro', 'edad': 28}"
      ]
     },
     "execution_count": 25,
     "metadata": {},
     "output_type": "execute_result"
    }
   ],
   "source": [
    "datos2"
   ]
  },
  {
   "cell_type": "markdown",
   "metadata": {},
   "source": [
    "### Diccionarios anidados"
   ]
  },
  {
   "cell_type": "code",
   "execution_count": 33,
   "metadata": {},
   "outputs": [],
   "source": [
    "datos3 = {'nombre' : 'Juan', 'edad' : 22, 'calificaciones': {'matematicas': 10, 'español': 8, 'biología': 9}}"
   ]
  },
  {
   "cell_type": "code",
   "execution_count": 35,
   "metadata": {},
   "outputs": [
    {
     "data": {
      "text/plain": [
       "{'nombre': 'Juan',\n",
       " 'edad': 22,\n",
       " 'calificaciones': {'matematicas': 10, 'español': 8, 'biología': 9}}"
      ]
     },
     "execution_count": 35,
     "metadata": {},
     "output_type": "execute_result"
    }
   ],
   "source": [
    "datos3"
   ]
  },
  {
   "cell_type": "code",
   "execution_count": null,
   "metadata": {},
   "outputs": [],
   "source": []
  },
  {
   "cell_type": "markdown",
   "metadata": {},
   "source": [
    "# Combinar datos"
   ]
  },
  {
   "cell_type": "code",
   "execution_count": 43,
   "metadata": {},
   "outputs": [],
   "source": [
    "registro = {1:datos1,2:datos2}"
   ]
  },
  {
   "cell_type": "code",
   "execution_count": 44,
   "metadata": {},
   "outputs": [
    {
     "data": {
      "text/plain": [
       "{1: {'nombre': 'Juan', 'edad': 22, 'calficaciones': [10, 8, 9]},\n",
       " 2: {'nombre': 'Pedro', 'edad': 28}}"
      ]
     },
     "execution_count": 44,
     "metadata": {},
     "output_type": "execute_result"
    }
   ],
   "source": [
    "registro"
   ]
  },
  {
   "cell_type": "markdown",
   "metadata": {},
   "source": [
    "# Acceder a los datos"
   ]
  },
  {
   "cell_type": "code",
   "execution_count": 36,
   "metadata": {},
   "outputs": [
    {
     "data": {
      "text/plain": [
       "8"
      ]
     },
     "execution_count": 36,
     "metadata": {},
     "output_type": "execute_result"
    }
   ],
   "source": [
    "datos3 = {'nombre' : 'Juan', 'edad' : 22, 'calificaciones': {'matematicas': 10, 'español': 8, 'biología': 9}}\n",
    "datos3['calificaciones']['español']"
   ]
  },
  {
   "cell_type": "markdown",
   "metadata": {},
   "source": [
    "# Asignar valores"
   ]
  },
  {
   "cell_type": "code",
   "execution_count": 48,
   "metadata": {},
   "outputs": [
    {
     "name": "stdout",
     "output_type": "stream",
     "text": [
      "{'nombre': 'Juan', 'edad': 22, 'calificaciones': {'matematicas': 10, 'español': 8, 'biología': 9}}\n",
      "{'nombre': 'Juan Carlos', 'edad': 22, 'calificaciones': {'matematicas': 10, 'español': 8, 'biología': 9}}\n"
     ]
    }
   ],
   "source": [
    "datos3 = {'nombre' : 'Juan', 'edad' : 22, 'calificaciones': {'matematicas': 10, 'español': 8, 'biología': 9}}\n",
    "print(datos3)\n",
    "\n",
    "datos3['nombre']= 'Juan Carlos' \n",
    "print(datos3)"
   ]
  },
  {
   "cell_type": "code",
   "execution_count": null,
   "metadata": {},
   "outputs": [],
   "source": []
  },
  {
   "cell_type": "markdown",
   "metadata": {},
   "source": [
    "# Eliminar datos"
   ]
  },
  {
   "cell_type": "code",
   "execution_count": 49,
   "metadata": {},
   "outputs": [
    {
     "name": "stdout",
     "output_type": "stream",
     "text": [
      "{'nombre': 'Juan', 'edad': 22, 'calificaciones': {'matematicas': 10, 'español': 8, 'biología': 9}}\n",
      "{'nombre': 'Juan', 'calificaciones': {'matematicas': 10, 'español': 8, 'biología': 9}}\n"
     ]
    }
   ],
   "source": [
    "datos3 = {'nombre' : 'Juan', 'edad' : 22, 'calificaciones': {'matematicas': 10, 'español': 8, 'biología': 9}}\n",
    "print(datos3)\n",
    "\n",
    "del datos3['edad']\n",
    "print(datos3)"
   ]
  },
  {
   "cell_type": "markdown",
   "metadata": {},
   "source": [
    "# Recuperar valores"
   ]
  },
  {
   "cell_type": "code",
   "execution_count": 66,
   "metadata": {},
   "outputs": [
    {
     "name": "stdout",
     "output_type": "stream",
     "text": [
      "Juan\n",
      "Juan\n"
     ]
    }
   ],
   "source": [
    "datos3 = {'nombre' : 'Juan', 'edad' : 22, 'calificaciones': {'matematicas': 10, 'español': 8, 'biología': 9}}\n",
    "nombre = datos3['nombre']\n",
    "print(nombre)\n",
    "\n",
    "nombre = datos3.get('nombre')\n",
    "print(nombre)\n"
   ]
  },
  {
   "cell_type": "markdown",
   "metadata": {},
   "source": [
    "# Membresia"
   ]
  },
  {
   "cell_type": "code",
   "execution_count": 60,
   "metadata": {},
   "outputs": [
    {
     "data": {
      "text/plain": [
       "True"
      ]
     },
     "execution_count": 60,
     "metadata": {},
     "output_type": "execute_result"
    }
   ],
   "source": [
    "registro = { 'María': { 'edad' : 22, 'calificaciones': {'matematicas': 10, 'español': 8, 'biología': 9}}, \n",
    "             'Juan':  { 'edad' : 28, 'calificaciones': {'matematicas': 9, 'español': 9, 'biología': 9}}, \n",
    "             'Pedro': { 'edad' : 28, 'calificaciones': {'matematicas': 9, 'español': 9, 'biología': 9}}, \n",
    "             }\n",
    "\n",
    "'María' in registro"
   ]
  },
  {
   "cell_type": "code",
   "execution_count": 64,
   "metadata": {},
   "outputs": [
    {
     "name": "stdout",
     "output_type": "stream",
     "text": [
      "Existe el registro de {nombre}\n"
     ]
    }
   ],
   "source": [
    "nombre = 'María'\n",
    "if nombre in registro:\n",
    "    print(\"Existe el registro de {nombre}\")\n"
   ]
  },
  {
   "cell_type": "code",
   "execution_count": 58,
   "metadata": {
    "collapsed": true
   },
   "outputs": [
    {
     "data": {
      "text/plain": [
       "{'edad': 28, 'calificaciones': {'matematicas': 9, 'español': 9, 'biología': 9}}"
      ]
     },
     "execution_count": 58,
     "metadata": {},
     "output_type": "execute_result"
    }
   ],
   "source": [
    "registro['Pedro']"
   ]
  },
  {
   "cell_type": "markdown",
   "metadata": {},
   "source": [
    "# Conteo"
   ]
  },
  {
   "cell_type": "code",
   "execution_count": 3,
   "metadata": {},
   "outputs": [],
   "source": [
    "\n",
    "s = \"Hola mundo hola todos\"\n",
    "dat={}\n",
    "for c in s:\n",
    "    if c in dat:\n",
    "        dat[c] = dat[c] + 1\n",
    "    else:\n",
    "        dat[c] = 1            "
   ]
  },
  {
   "cell_type": "code",
   "execution_count": 8,
   "metadata": {},
   "outputs": [
    {
     "name": "stdout",
     "output_type": "stream",
     "text": [
      "{'H': 1, 'o': 5, 'l': 2, 'a': 2, ' ': 3, 'm': 1, 'u': 1, 'n': 1, 'd': 2, 'h': 1, 't': 1, 's': 1}\n"
     ]
    }
   ],
   "source": [
    "print(dat)"
   ]
  },
  {
   "cell_type": "code",
   "execution_count": null,
   "metadata": {},
   "outputs": [],
   "source": [
    "from collections import Counter\n",
    "cnt =  Counter(s)\n",
    "cnt"
   ]
  },
  {
   "cell_type": "code",
   "execution_count": 10,
   "metadata": {},
   "outputs": [
    {
     "data": {
      "text/plain": [
       "Counter({'H': 1,\n",
       "         'o': 5,\n",
       "         'l': 2,\n",
       "         'a': 2,\n",
       "         ' ': 3,\n",
       "         'm': 1,\n",
       "         'u': 1,\n",
       "         'n': 1,\n",
       "         'd': 2,\n",
       "         'h': 1,\n",
       "         't': 1,\n",
       "         's': 1})"
      ]
     },
     "execution_count": 10,
     "metadata": {},
     "output_type": "execute_result"
    }
   ],
   "source": [
    "from collections import Counter\n",
    "caracteres =  Counter()\n",
    "for c in s:\n",
    "       caracteres[c] +=1\n",
    "\n",
    "caracteres"
   ]
  },
  {
   "cell_type": "code",
   "execution_count": 182,
   "metadata": {},
   "outputs": [
    {
     "name": "stdout",
     "output_type": "stream",
     "text": [
      "{'H': 1, 'o': 5, 'l': 2, 'a': 2, ' ': 3, 'm': 1, 'u': 1, 'n': 1, 'd': 2, 'h': 1, 't': 1, 's': 1}\n"
     ]
    }
   ],
   "source": []
  },
  {
   "cell_type": "code",
   "execution_count": 190,
   "metadata": {},
   "outputs": [
    {
     "name": "stdout",
     "output_type": "stream",
     "text": [
      "['H', 'o', 'l', 'a', ' ', 'm', 'u', 'n', 'd', 'h', 't', 's']\n",
      "[1, 5, 2, 2, 3, 1, 1, 1, 2, 1, 1, 1]\n"
     ]
    }
   ],
   "source": [
    "print(list(dat.keys()))\n",
    "print(list(dat.values()))"
   ]
  },
  {
   "cell_type": "code",
   "execution_count": 191,
   "metadata": {},
   "outputs": [
    {
     "name": "stdout",
     "output_type": "stream",
     "text": [
      "['H', 'o', 'l', 'a', ' ', 'm', 'u', 'n', 'd', 'h', 't', 's'] [1, 5, 2, 2, 3, 1, 1, 1, 2, 1, 1, 1]\n"
     ]
    },
    {
     "data": {
      "text/plain": [
       "<Container object of 12 artists>"
      ]
     },
     "execution_count": 191,
     "metadata": {},
     "output_type": "execute_result"
    },
    {
     "data": {
      "image/png": "[encoded data removed]",
      "text/plain": [
       "<matplotlib.figure.Figure at 0x1150a6fd0>"
      ]
     },
     "metadata": {},
     "output_type": "display_data"
    }
   ],
   "source": [
    "%matplotlib inline\n",
    "import matplotlib.pyplot as plt\n",
    "\n",
    "k=list(dat.keys())\n",
    "v=list(dat.values())\n",
    "print(k,v)\n",
    "x_pos = [i for i, _ in enumerate(k)]\n",
    "plt.xticks(x_pos, k)\n",
    "plt.bar(x_pos, v, align='center')\n"
   ]
  },
  {
   "cell_type": "markdown",
   "metadata": {},
   "source": [
    "# Estructura de datos: Sets"
   ]
  },
  {
   "cell_type": "code",
   "execution_count": 210,
   "metadata": {
    "collapsed": true
   },
   "outputs": [],
   "source": [
    "A = set(['aaa', '1', 'b', 3, '4', 'c', 'a','a','a'])\n",
    "B = set(['aa', '1', 'bb', 3, '5', 'c', 'a'])"
   ]
  },
  {
   "cell_type": "code",
   "execution_count": 206,
   "metadata": {},
   "outputs": [
    {
     "data": {
      "text/plain": [
       "{'1', '3', '4', 'a', 'aaa', 'b', 'c'}"
      ]
     },
     "execution_count": 206,
     "metadata": {},
     "output_type": "execute_result"
    }
   ],
   "source": [
    "A"
   ]
  },
  {
   "cell_type": "code",
   "execution_count": 207,
   "metadata": {},
   "outputs": [
    {
     "data": {
      "text/plain": [
       "{'1', '3', '5', 'a', 'aa', 'bb', 'c'}"
      ]
     },
     "execution_count": 207,
     "metadata": {},
     "output_type": "execute_result"
    }
   ],
   "source": [
    "B"
   ]
  },
  {
   "cell_type": "code",
   "execution_count": 282,
   "metadata": {
    "collapsed": true
   },
   "outputs": [],
   "source": [
    "AA = set(\"anita lava la tina\")"
   ]
  },
  {
   "cell_type": "code",
   "execution_count": 283,
   "metadata": {},
   "outputs": [
    {
     "data": {
      "text/plain": [
       "{' ', 'a', 'i', 'l', 'n', 't', 'v'}"
      ]
     },
     "execution_count": 283,
     "metadata": {},
     "output_type": "execute_result"
    }
   ],
   "source": [
    "AA"
   ]
  },
  {
   "cell_type": "code",
   "execution_count": 284,
   "metadata": {},
   "outputs": [
    {
     "data": {
      "text/plain": [
       "{'bb', 'aaa', 3, 'b', 'a', '4', '5', 'aa', 'c', '1'}"
      ]
     },
     "execution_count": 284,
     "metadata": {},
     "output_type": "execute_result"
    }
   ],
   "source": [
    "A.union(B)"
   ]
  },
  {
   "cell_type": "code",
   "execution_count": 212,
   "metadata": {},
   "outputs": [
    {
     "data": {
      "text/plain": [
       "{'a', 3, 'c', '1'}"
      ]
     },
     "execution_count": 212,
     "metadata": {},
     "output_type": "execute_result"
    }
   ],
   "source": [
    "A.intersection(B)"
   ]
  },
  {
   "cell_type": "markdown",
   "metadata": {},
   "source": [
    "# Similitud"
   ]
  },
  {
   "cell_type": "markdown",
   "metadata": {},
   "source": [
    "# Coeficiente de Jaccard \n",
    "# $J(A,B) = \\frac{|A \\cap B|}{|A \\cup  B|}$\n"
   ]
  },
  {
   "cell_type": "code",
   "execution_count": 220,
   "metadata": {
    "collapsed": true
   },
   "outputs": [],
   "source": [
    "a=\"casuchas\"\n",
    "b=\"casitas\""
   ]
  },
  {
   "cell_type": "code",
   "execution_count": 223,
   "metadata": {},
   "outputs": [],
   "source": [
    "CA=set(a)\n",
    "CB=set(b)\n",
    "tI=len(CA.intersection(CB))\n",
    "tU=len(CA.union(CB))\n",
    "J=tI/tU"
   ]
  },
  {
   "cell_type": "code",
   "execution_count": 224,
   "metadata": {},
   "outputs": [
    {
     "data": {
      "text/plain": [
       "0.42857142857142855"
      ]
     },
     "execution_count": 224,
     "metadata": {},
     "output_type": "execute_result"
    }
   ],
   "source": [
    "J"
   ]
  },
  {
   "cell_type": "markdown",
   "metadata": {},
   "source": [
    "# Coeficiente de Dice \n",
    "# $$D(A,B) =  \\frac{ 2 \\times |A \\cap B|}{|A| + |B|}$$"
   ]
  },
  {
   "cell_type": "code",
   "execution_count": 225,
   "metadata": {
    "collapsed": true
   },
   "outputs": [],
   "source": [
    "D=2*tI/(len(CA) + len(CB))"
   ]
  },
  {
   "cell_type": "code",
   "execution_count": 226,
   "metadata": {},
   "outputs": [
    {
     "data": {
      "text/plain": [
       "0.6"
      ]
     },
     "execution_count": 226,
     "metadata": {},
     "output_type": "execute_result"
    }
   ],
   "source": [
    "D"
   ]
  },
  {
   "cell_type": "markdown",
   "metadata": {},
   "source": [
    "# Gutenberg project\n",
    "http://www.gutenberg.org"
   ]
  },
  {
   "cell_type": "code",
   "execution_count": 227,
   "metadata": {},
   "outputs": [],
   "source": [
    "with open(\"celestina.txt\", 'r', encoding='utf8') as f:\n",
    "    text = f.readlines()\n",
    "    f.close()\n",
    "        "
   ]
  },
  {
   "cell_type": "code",
   "execution_count": 234,
   "metadata": {},
   "outputs": [
    {
     "data": {
      "text/plain": [
       "['# The Project Gutenberg Etext of La Celestina by Fernando de Rojas\\n', '\\n']"
      ]
     },
     "execution_count": 234,
     "metadata": {},
     "output_type": "execute_result"
    }
   ],
   "source": [
    "text[:2]\n"
   ]
  },
  {
   "cell_type": "code",
   "execution_count": 239,
   "metadata": {
    "collapsed": true
   },
   "outputs": [],
   "source": []
  },
  {
   "cell_type": "markdown",
   "metadata": {},
   "source": [
    "# preprocesamiento de los datos"
   ]
  },
  {
   "cell_type": "code",
   "execution_count": 244,
   "metadata": {},
   "outputs": [],
   "source": [
    "# remover lineas vacias\n",
    "text2=[]\n",
    "with open(\"celestina.txt\", 'r', encoding='utf8') as f:\n",
    "    for l in f.readlines():\n",
    "        if not l.strip():\n",
    "            continue\n",
    "        if l.strip().startswith('#'):\n",
    "                continue\n",
    "        text2.append(l.strip().split())\n",
    "    f.close()\n"
   ]
  },
  {
   "cell_type": "code",
   "execution_count": 246,
   "metadata": {},
   "outputs": [
    {
     "data": {
      "text/plain": [
       "[['LA', 'CELESTINA'], ['por'], ['Fernando', 'de', 'Rojas']]"
      ]
     },
     "execution_count": 246,
     "metadata": {},
     "output_type": "execute_result"
    }
   ],
   "source": [
    "text2[:3]"
   ]
  },
  {
   "cell_type": "markdown",
   "metadata": {},
   "source": [
    "\n",
    "# Conteo de términos"
   ]
  },
  {
   "cell_type": "code",
   "execution_count": 251,
   "metadata": {},
   "outputs": [],
   "source": [
    "from collections import Counter\n",
    "tt=[]\n",
    "for t in text2:\n",
    "    for w in t:\n",
    "        for c in w:\n",
    "            tt.extend(c.lower())\n",
    "            \n",
    "di=Counter(tt)"
   ]
  },
  {
   "cell_type": "code",
   "execution_count": 255,
   "metadata": {},
   "outputs": [
    {
     "data": {
      "text/plain": [
       "<Container object of 54 artists>"
      ]
     },
     "execution_count": 255,
     "metadata": {},
     "output_type": "execute_result"
    },
    {
     "data": {
      "image/png": "[encoded data removed]",
      "text/plain": [
       "<matplotlib.figure.Figure at 0x115350198>"
      ]
     },
     "metadata": {},
     "output_type": "display_data"
    }
   ],
   "source": [
    "%matplotlib inline\n",
    "import matplotlib.pyplot as plt\n",
    "\n",
    "k=list(di.keys())\n",
    "v=list(di.values())\n",
    "x_pos = [i for i, _ in enumerate(k)]\n",
    "plt.xticks(x_pos, k)\n",
    "plt.bar(x_pos, v, align='center')"
   ]
  },
  {
   "cell_type": "markdown",
   "metadata": {},
   "source": [
    "# términos más frecuentes"
   ]
  },
  {
   "cell_type": "code",
   "execution_count": 274,
   "metadata": {},
   "outputs": [],
   "source": [
    "text2=[]\n",
    "with open(\"text_5.txt\", 'r', encoding='utf8') as f:\n",
    "    for l in f.readlines():\n",
    "        if not l.strip():\n",
    "            continue\n",
    "        if l.strip().startswith('#'):\n",
    "                continue\n",
    "        text2.append(l.strip().split())\n",
    "    f.close()"
   ]
  },
  {
   "cell_type": "code",
   "execution_count": 275,
   "metadata": {},
   "outputs": [
    {
     "data": {
      "text/plain": [
       "[['Un', 'gurú', 'vudú'],\n",
       " ['Un',\n",
       "  'gurú',\n",
       "  'vudú,',\n",
       "  'un',\n",
       "  'Duvulur,',\n",
       "  'supusu',\n",
       "  'un',\n",
       "  'mundu',\n",
       "  'futuru',\n",
       "  'mu',\n",
       "  'suyu;',\n",
       "  'un',\n",
       "  'mundo',\n",
       "  'cuyu',\n",
       "  'multutud',\n",
       "  'frustrudu',\n",
       "  'pur',\n",
       "  'sus',\n",
       "  'Tuntuns',\n",
       "  'Mucutus',\n",
       "  'nuncu',\n",
       "  'luchuru,',\n",
       "  'nuncu',\n",
       "  'junturu',\n",
       "  'sus',\n",
       "  'músculus',\n",
       "  'puru',\n",
       "  'hundur',\n",
       "  'su',\n",
       "  'curul.']]"
      ]
     },
     "execution_count": 275,
     "metadata": {},
     "output_type": "execute_result"
    }
   ],
   "source": [
    "text2[0:2]"
   ]
  },
  {
   "cell_type": "code",
   "execution_count": 276,
   "metadata": {},
   "outputs": [],
   "source": [
    "from collections import Counter\n",
    "tt=[]\n",
    "for t in text2:\n",
    "    for w in t:\n",
    "        for c in w:\n",
    "            tt.extend(c.lower())\n",
    "            \n",
    "di=Counter(tt)"
   ]
  },
  {
   "cell_type": "code",
   "execution_count": 277,
   "metadata": {},
   "outputs": [
    {
     "data": {
      "text/plain": [
       "<Container object of 37 artists>"
      ]
     },
     "execution_count": 277,
     "metadata": {},
     "output_type": "execute_result"
    },
    {
     "data": {
      "image/png": "[encoded data removed]",
      "text/plain": [
       "<matplotlib.figure.Figure at 0x115e11358>"
      ]
     },
     "metadata": {},
     "output_type": "display_data"
    }
   ],
   "source": [
    "%matplotlib inline\n",
    "import matplotlib.pyplot as plt\n",
    "\n",
    "k=list(di.keys())\n",
    "v=list(di.values())\n",
    "x_pos = [i for i, _ in enumerate(k)]\n",
    "plt.xticks(x_pos, k)\n",
    "plt.bar(x_pos, v, align='center')"
   ]
  },
  {
   "cell_type": "code",
   "execution_count": 280,
   "metadata": {},
   "outputs": [
    {
     "data": {
      "text/plain": [
       "'vudu'"
      ]
     },
     "execution_count": 280,
     "metadata": {},
     "output_type": "execute_result"
    }
   ],
   "source": [
    "s1=\"vudú\"\n",
    "s1.replace('ú','u')"
   ]
  },
  {
   "cell_type": "markdown",
   "metadata": {},
   "source": [
    "# NLTK: Natural Language Tool Kit"
   ]
  },
  {
   "cell_type": "code",
   "execution_count": null,
   "metadata": {
    "collapsed": true
   },
   "outputs": [],
   "source": [
    "import nltk\n",
    "# nltk.download()"
   ]
  },
  {
   "cell_type": "code",
   "execution_count": null,
   "metadata": {},
   "outputs": [],
   "source": [
    "from nltk.stem import SnowballStemmer\n",
    "stemmer=SnowballStemmer(\"spanish\")\n"
   ]
  },
  {
   "cell_type": "code",
   "execution_count": null,
   "metadata": {},
   "outputs": [],
   "source": [
    "from nltk.book import *\n",
    "text1"
   ]
  },
  {
   "cell_type": "code",
   "execution_count": null,
   "metadata": {},
   "outputs": [],
   "source": [
    "text1[:10]\n"
   ]
  },
  {
   "cell_type": "markdown",
   "metadata": {},
   "source": [
    "# Palabras de longitud N"
   ]
  },
  {
   "cell_type": "code",
   "execution_count": null,
   "metadata": {},
   "outputs": [],
   "source": [
    "V = set(text1)\n",
    "\n"
   ]
  },
  {
   "cell_type": "markdown",
   "metadata": {},
   "source": []
  },
  {
   "cell_type": "markdown",
   "metadata": {},
   "source": [
    "# Zipf  & Heaps"
   ]
  }
 ],
 "metadata": {
  "kernelspec": {
   "display_name": "Python 3",
   "language": "python",
   "name": "python3"
  },
  "language_info": {
   "codemirror_mode": {
    "name": "ipython",
    "version": 3
   },
   "file_extension": ".py",
   "mimetype": "text/x-python",
   "name": "python",
   "nbconvert_exporter": "python",
   "pygments_lexer": "ipython3",
   "version": "3.9.13"
  }
 },
 "nbformat": 4,
 "nbformat_minor": 2
}
